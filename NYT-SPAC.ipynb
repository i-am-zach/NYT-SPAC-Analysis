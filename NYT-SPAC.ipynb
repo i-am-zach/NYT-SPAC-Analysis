{
 "cells": [
  {
   "attachments": {},
   "cell_type": "markdown",
   "metadata": {},
   "source": [
    "# Stanford Law School: Analyzing Financial Memes Using Data Science\n",
    "By Zach Lefkovitz (in coordination with Graham Ambrose, Law Student Stanford Law School).\n",
    "\n",
    "09/12/2023"
   ]
  },
  {
   "attachments": {},
   "cell_type": "markdown",
   "metadata": {},
   "source": [
    "## Introduction\n",
    "\n",
    "### Special Purpose Acquisition Companies\n",
    "\n",
    "Special Purpose Acquisition Companies (SPACs) are companies created solely for the purpose of raising capital through an initial public offering (IPO) with the intention of acquiring an existing private company and taking it public. SPACs are also known as \"blank check\" companies, as they have no operations or business activities at the time of their IPO. SPACs are highly criticized for over selling their companies assets and being a method of enriching insiders.\n",
    "\n",
    "### An Opportunity is Presented\n",
    "\n",
    "![Stanford Law School](assets/sls-social-default.jpg)\n",
    "\n",
    "Graham Ambrose is a law student at Stanford Law School and the older brother of my good high school friend, Zac. This winter break, Zac reached out to me because Graham was looking for a computer scientist to help assist him with a data science project for his research on SPACs. Not wanting to pass on an opportunity to get my name in law review, I accepted the opportunity and began to message Graham.\n",
    "\n",
    "### Professor Klausner\n",
    "\n",
    "Graham does research for [Professor Michael Klausner](https://law.stanford.edu/directory/michael-klausner/). Klasuner teachers and writer for the Stanford Nancy and Charles Munger School of Business and Stanford Law School. His special research area is in Banking and Financial Institutions, Business & Corporate Law, and Capital Markets. His 2020 publication, *A Sober Look at SPACs,* has been cited by the SEC in proposing regulation to the industry and he is currently suing three SPACs in Delaware Court.\n",
    "\n",
    "### Research Purpose\n",
    "\n",
    "![Wall Street Bets](assets/WallStreetBets.png)\n",
    "\n",
    "In his research, Graham wanted to explore when and why SPACs became so popular. Through platforms like Twitter and Reddit's r/WallStreetBets, SPACs became a financial meme. Using data science, Graham wanted to know exactly when SPACs started becoming popular. SPACs have been financial tools since the 90s but he hypothesizes there's been a sharp increase in the use of SPACs in public knowledge starting in 2020. \n",
    "\n",
    "### Limitations\n",
    "\n",
    "![Translation of SPAC](assets/spac-translation.png)\n",
    "\n",
    "Since Twitter was a popular platform for the promoting and growing of SPACs as a financial meme, it would seem intuitive to scrape twitter content that contain the word \"SPAC\" for our data. However the word \"spac\" means \"to sleep\" in Polish so it would make analysis more complicated. While it would be possible to use an algorithm to determine the tweet was in English or Polish to filter the data, instead we decided to use New York Times articles as a measure of the prevalence of SPACs in public discourse."
   ]
  },
  {
   "cell_type": "markdown",
   "metadata": {},
   "source": []
  }
 ],
 "metadata": {
  "language_info": {
   "name": "python"
  },
  "orig_nbformat": 4
 },
 "nbformat": 4,
 "nbformat_minor": 2
}
