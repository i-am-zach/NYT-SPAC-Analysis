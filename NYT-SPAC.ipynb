{
 "cells": [
  {
   "attachments": {},
   "cell_type": "markdown",
   "metadata": {},
   "source": [
    "# Stanford Law School: Analyzing Financial Memes Using Data Science\n",
    "\n",
    "By Zach Lefkovitz (in coordination with Graham Ambrose, Stanford Law School).\n",
    "\n",
    "09/12/2023"
   ]
  },
  {
   "attachments": {},
   "cell_type": "markdown",
   "metadata": {},
   "source": [
    "## Introduction\n",
    "\n",
    "### Special Purpose Acquisition Companies\n",
    "\n",
    "Special Purpose Acquisition Companies (SPACs) are companies created solely for the purpose of raising capital through an initial public offering (IPO) with the intention of acquiring an existing private company and taking it public. SPACs are also known as \"blank check\" companies, as they have no operations or business activities at the time of their IPO. SPACs are highly criticized for over selling their companies assets and being a method of enriching insiders.\n",
    "\n",
    "### An Opportunity is Presented\n",
    "\n",
    "![Stanford Law School](assets/sls-social-default.jpg)\n",
    "\n",
    "Graham Ambrose is a law student at Stanford Law School and the older brother of my good high school friend, Zac. This winter break, Zac reached out to me because Graham was looking for a computer scientist to help assist him with a data science project for his research on SPACs. Not wanting to pass on an opportunity to get my name in law review, I accepted the opportunity and began to message Graham.\n",
    "\n",
    "### Professor Klausner\n",
    "\n",
    "Graham does research for [Professor Michael Klausner](https://law.stanford.edu/directory/michael-klausner/). Klasuner teachers and writer for the Stanford Nancy and Charles Munger School of Business and Stanford Law School. His special research area is in Banking and Financial Institutions, Business & Corporate Law, and Capital Markets. His 2020 publication, *A Sober Look at SPACs,* has been cited by the SEC in proposing regulation to the industry and he is currently suing three SPACs in Delaware Court.\n",
    "\n",
    "### Research Purpose\n",
    "\n",
    "![Wall Street Bets](assets/WallStreetBets.png)\n",
    "\n",
    "In his research, Graham wanted to explore when and why SPACs became so popular. Through platforms like Twitter and Reddit's r/WallStreetBets, SPACs became a financial meme. Using data science, Graham wanted to know exactly when SPACs started becoming popular. SPACs have been financial tools since the 90s but he hypothesizes there's been a sharp increase in the use of SPACs in public knowledge starting in 2020. \n",
    "\n",
    "### Limitations\n",
    "\n",
    "![Translation of SPAC](assets/spac-translation.png)\n",
    "\n",
    "Since Twitter was a popular platform for the promoting and growing of SPACs as a financial meme, it would seem intuitive to scrape twitter content that contain the word \"SPAC\" for our data. However the word \"spac\" means \"to sleep\" in Polish so it would make analysis more complicated. While it would be possible to use an algorithm to determine the tweet was in English or Polish to filter the data, instead we decided to use New York Times articles as a measure of the prevalence of SPACs in public discourse."
   ]
  },
  {
   "attachments": {},
   "cell_type": "markdown",
   "metadata": {},
   "source": [
    "---"
   ]
  },
  {
   "attachments": {},
   "cell_type": "markdown",
   "metadata": {},
   "source": [
    "# Data Collection\n",
    "\n",
    "To collect the data, we are going to use the New York Times API. This API can be found by Googling \"New York Times API\" are going to the URL https://developer.nytimes.com/.\n",
    "\n",
    "## Creating an App\n",
    "\n",
    "After creating a developer account with the New York Times, we need to create an app in order to obtain our API key. Under the accounts section on the top right, click on \"apps\" > Create New App. I created a new app called \"NYT SPAC Analysis\" and enabled the article search API.\n",
    "\n",
    "![Create New App](assets/nyt/new-app.png)\n",
    "\n",
    "Once the app is created, I copied my public and secret key and saved it to a .env file in my project's root directory. My .env file follows this format:\n",
    "```\n",
    "NYT_API_KEY=<YOUR API KEY>\n",
    "NYT_SECRET_KEY=<YOUR SECRET KEY>\n",
    "```\n",
    "\n",
    "In the later parts of the project, I'll load the environment variables from that .env file into my python script.\n",
    "\n",
    "## Exploring the Article Search API\n",
    "\n",
    "The New York Times provides documentation for all their API endpoints. For the purpose of this project, we are going to use the article search API. The article search API allows NYT article look ups by keywords. The documentation can be found here: https://developer.nytimes.com/docs/articlesearch-product/1/overview.\n",
    "\n",
    "From the NYT Article Search API documentation, here is an example API url:\n",
    "\n",
    "```https://api.nytimes.com/svc/search/v2/articlesearch.json?q=election&api-key=yourkey```\n",
    "\n",
    "Breaking down the url into its components:\n",
    "* `https://api.nytimes.com/svc/search/v2/articlesearch.json`: The base url for the article search API\n",
    "* `?q=election`: Query for the keyword \"election\" in NYT articles\n",
    "* `api-key=yourkey`: Dedicated keyword to provide your API key to authenticate the API\n",
    "\n",
    "Some other useful query parameters useful for us:\n",
    "* `sort` = \"newest\" | \"oldest\" | \"relevance\": Sort the API results by chronologically or by relevance. Sorting chronologically will be nice for graphing the data in time series.\n",
    "* `page` = number: The API results are paginated with a max of 10 pages, meaning that to get all results that contain the SPAC keyword, we'll have to exhaust all pages.\n",
    "\n",
    "Formatting this API url to do a search for articles that include the word \"SPAC\" we get this URL\n",
    "\n",
    "```https://api.nytimes.com/svc/search/v2/articlesearch.json?q=SPAC&sort=oldest&page=1&api-key=yourkey```"
   ]
  },
  {
   "attachments": {},
   "cell_type": "markdown",
   "metadata": {},
   "source": [
    "## Data Collection"
   ]
  },
  {
   "cell_type": "code",
   "execution_count": 123,
   "metadata": {},
   "outputs": [
    {
     "data": {
      "text/plain": [
       "True"
      ]
     },
     "execution_count": 123,
     "metadata": {},
     "output_type": "execute_result"
    }
   ],
   "source": [
    "import requests\n",
    "import os\n",
    "from dotenv import load_dotenv\n",
    "import json\n",
    "import datetime as dt\n",
    "import pandas as pd\n",
    "import seaborn as sns\n",
    "import numpy as np\n",
    "\n",
    "load_dotenv()"
   ]
  },
  {
   "cell_type": "code",
   "execution_count": 52,
   "metadata": {},
   "outputs": [],
   "source": [
    "def article_search_by_keyword(keyword: str, api_key: str, page=1): \n",
    "    \"\"\"Query the NYT article search API by keyword and return the response as a JSON object.\n",
    "    \n",
    "    @return None, Response: if the request fails\n",
    "    @return JSON object, Response: if the request succeeds\n",
    "    \"\"\"\n",
    "    url = \"https://api.nytimes.com/svc/search/v2/articlesearch.json?q=%s&page=%d&sort=newest&api-key=%s\" % (keyword, page, api_key)\n",
    "    res = requests.get(url)\n",
    "    if res.status_code != 200 or res.json()['response']['docs'] == []:\n",
    "        return None, res\n",
    "\n",
    "    return res.json(), res"
   ]
  },
  {
   "cell_type": "code",
   "execution_count": 64,
   "metadata": {},
   "outputs": [],
   "source": [
    "json_res, _ = article_search_by_keyword(\"special purpose acquisition company\", os.getenv(\"NYT_API_KEY\"))\n",
    "json_res"
   ]
  },
  {
   "cell_type": "code",
   "execution_count": 65,
   "metadata": {},
   "outputs": [
    {
     "ename": "TypeError",
     "evalue": "'NoneType' object is not subscriptable",
     "output_type": "error",
     "traceback": [
      "\u001b[0;31m---------------------------------------------------------------------------\u001b[0m",
      "\u001b[0;31mTypeError\u001b[0m                                 Traceback (most recent call last)",
      "Cell \u001b[0;32mIn[65], line 1\u001b[0m\n\u001b[0;32m----> 1\u001b[0m json_res[\u001b[39m\"\u001b[39m\u001b[39mresponse\u001b[39m\u001b[39m\"\u001b[39m][\u001b[39m\"\u001b[39m\u001b[39mdocs\u001b[39m\u001b[39m\"\u001b[39m][\u001b[39m0\u001b[39m]\n",
      "\u001b[0;31mTypeError\u001b[0m: 'NoneType' object is not subscriptable"
     ]
    }
   ],
   "source": [
    "json_res[\"response\"][\"docs\"][0]"
   ]
  },
  {
   "cell_type": "code",
   "execution_count": null,
   "metadata": {},
   "outputs": [
    {
     "name": "stdout",
     "output_type": "stream",
     "text": [
      "abstract <class 'str'>\n",
      "web_url <class 'str'>\n",
      "snippet <class 'str'>\n",
      "lead_paragraph <class 'str'>\n",
      "print_section <class 'str'>\n",
      "print_page <class 'str'>\n",
      "source <class 'str'>\n",
      "multimedia <class 'list'>\n",
      "headline <class 'dict'>\n",
      "keywords <class 'list'>\n",
      "pub_date <class 'str'>\n",
      "document_type <class 'str'>\n",
      "news_desk <class 'str'>\n",
      "section_name <class 'str'>\n",
      "subsection_name <class 'str'>\n",
      "byline <class 'dict'>\n",
      "type_of_material <class 'str'>\n",
      "_id <class 'str'>\n",
      "word_count <class 'int'>\n",
      "uri <class 'str'>\n"
     ]
    }
   ],
   "source": [
    "for key in json_res['response']['docs'][0].keys():\n",
    "    print(key, type(json_res['response']['docs'][0][key]), sep=':\\t')"
   ]
  },
  {
   "cell_type": "code",
   "execution_count": 57,
   "metadata": {},
   "outputs": [],
   "source": [
    "import time\n",
    "\n",
    "def get_all_articles_for_keyword(keyword: str, api_key: str, max_page=100, sleep_time_sec=6, start_page=1):\n",
    "    \"\"\"Query the NYT article search API by keyword and return all the responses as a list of JSON objects.\n",
    "    \n",
    "    @return Response, Page: The response and page number of the last request when the request eventually fails\n",
    "    @return None: If the requests go past max_page\n",
    "    \"\"\"\n",
    "    os_friendly_keyword = keyword.replace(\" \", \"_\")\n",
    "\n",
    "    # Make the /data/nyt directory if it doesn't exist\n",
    "    if not os.path.exists(\"data/nyt/%s\" % os_friendly_keyword):\n",
    "        os.makedirs(\"data/nyt/%s\" % os_friendly_keyword)\n",
    "\n",
    "    for page in range(start_page, max_page + 1):\n",
    "        json_res, res = article_search_by_keyword(keyword, api_key, page)\n",
    "        if json_res is None:\n",
    "            return res, page\n",
    "        with open(\"data/nyt/%s/%s_%d.json\" % (os_friendly_keyword, os_friendly_keyword, page), \"w\") as f:\n",
    "            f.write(json.dumps(json_res))\n",
    "        print(\"%s: Finished page %d for keyword %s\" % (dt.datetime.now(), page, keyword))\n",
    "        # Have to sleep for rate timing\n",
    "        time.sleep(sleep_time_sec)\n",
    "    "
   ]
  },
  {
   "cell_type": "code",
   "execution_count": 63,
   "metadata": {},
   "outputs": [
    {
     "name": "stdout",
     "output_type": "stream",
     "text": [
      "Rate limit exceeded, sleeping for 1 minute\n"
     ]
    },
    {
     "ename": "KeyboardInterrupt",
     "evalue": "",
     "output_type": "error",
     "traceback": [
      "\u001b[0;31m---------------------------------------------------------------------------\u001b[0m",
      "\u001b[0;31mKeyboardInterrupt\u001b[0m                         Traceback (most recent call last)",
      "Cell \u001b[0;32mIn[63], line 11\u001b[0m\n\u001b[1;32m      9\u001b[0m start_page \u001b[39m=\u001b[39m page\n\u001b[1;32m     10\u001b[0m \u001b[39mprint\u001b[39m(\u001b[39m\"\u001b[39m\u001b[39mRate limit exceeded, sleeping for 1 minute\u001b[39m\u001b[39m\"\u001b[39m)\n\u001b[0;32m---> 11\u001b[0m time\u001b[39m.\u001b[39msleep(\u001b[39m60\u001b[39m)\n",
      "\u001b[0;31mKeyboardInterrupt\u001b[0m: "
     ]
    }
   ],
   "source": [
    "# This while loop will run until an API rate limit is exceeded or until max_page is reached\n",
    "\n",
    "start_page = 1\n",
    "while True:\n",
    "    num_rate_limits = 0\n",
    "    error_res, page = get_all_articles_for_keyword(\"special purpose acquisition company\", os.getenv(\"NYT_API_KEY\"), start_page=start_page, sleep_time_sec=10, max_page=300)\n",
    "    if type(error_res) == bytes or error_res.status_code == 429:\n",
    "        num_rate_limits += 1\n",
    "        if num_rate_limits > 10:\n",
    "            break\n",
    "        start_page = page\n",
    "        print(\"Rate limit exceeded, sleeping for 1 minute\")\n",
    "        time.sleep(60)\n"
   ]
  },
  {
   "attachments": {},
   "cell_type": "markdown",
   "metadata": {},
   "source": [
    "## Data Formatting\n",
    "\n",
    "### Combine the JSON Files to one dataframe for each keyword"
   ]
  },
  {
   "cell_type": "code",
   "execution_count": 72,
   "metadata": {},
   "outputs": [],
   "source": [
    "def json_to_df(data: dict):\n",
    "    \"\"\"Convert a JSON object from the NYT article search API to a pandas DataFrame.\n",
    "    \n",
    "    @return DataFrame: The DataFrame representation of the JSON object\n",
    "    \"\"\"\n",
    "    return pd.DataFrame(data['response']['docs'])"
   ]
  },
  {
   "cell_type": "code",
   "execution_count": 76,
   "metadata": {},
   "outputs": [
    {
     "data": {
      "text/html": [
       "<div>\n",
       "<style scoped>\n",
       "    .dataframe tbody tr th:only-of-type {\n",
       "        vertical-align: middle;\n",
       "    }\n",
       "\n",
       "    .dataframe tbody tr th {\n",
       "        vertical-align: top;\n",
       "    }\n",
       "\n",
       "    .dataframe thead th {\n",
       "        text-align: right;\n",
       "    }\n",
       "</style>\n",
       "<table border=\"1\" class=\"dataframe\">\n",
       "  <thead>\n",
       "    <tr style=\"text-align: right;\">\n",
       "      <th></th>\n",
       "      <th>abstract</th>\n",
       "      <th>web_url</th>\n",
       "      <th>snippet</th>\n",
       "      <th>lead_paragraph</th>\n",
       "      <th>print_section</th>\n",
       "      <th>print_page</th>\n",
       "      <th>source</th>\n",
       "      <th>multimedia</th>\n",
       "      <th>headline</th>\n",
       "      <th>keywords</th>\n",
       "      <th>pub_date</th>\n",
       "      <th>document_type</th>\n",
       "      <th>news_desk</th>\n",
       "      <th>section_name</th>\n",
       "      <th>subsection_name</th>\n",
       "      <th>byline</th>\n",
       "      <th>type_of_material</th>\n",
       "      <th>_id</th>\n",
       "      <th>word_count</th>\n",
       "      <th>uri</th>\n",
       "    </tr>\n",
       "  </thead>\n",
       "  <tbody>\n",
       "    <tr>\n",
       "      <th>0</th>\n",
       "      <td>The preliminary guidance applies to an alterna...</td>\n",
       "      <td>https://www.nytimes.com/2022/12/27/us/politics...</td>\n",
       "      <td>The preliminary guidance applies to an alterna...</td>\n",
       "      <td>WASHINGTON — The Treasury Department on Tuesda...</td>\n",
       "      <td>A</td>\n",
       "      <td>16</td>\n",
       "      <td>The New York Times</td>\n",
       "      <td>[{'rank': 0, 'subtype': 'xlarge', 'caption': N...</td>\n",
       "      <td>{'main': 'Treasury Department Outlines Rules f...</td>\n",
       "      <td>[{'name': 'subject', 'value': 'United States P...</td>\n",
       "      <td>2022-12-27T22:58:06+0000</td>\n",
       "      <td>article</td>\n",
       "      <td>Washington</td>\n",
       "      <td>U.S.</td>\n",
       "      <td>Politics</td>\n",
       "      <td>{'original': 'By Jim Tankersley', 'person': [{...</td>\n",
       "      <td>News</td>\n",
       "      <td>nyt://article/51e3a268-3b89-50c2-b801-3a750baa...</td>\n",
       "      <td>600</td>\n",
       "      <td>nyt://article/51e3a268-3b89-50c2-b801-3a750baa...</td>\n",
       "    </tr>\n",
       "    <tr>\n",
       "      <th>1</th>\n",
       "      <td>There were fewer mergers and public listings t...</td>\n",
       "      <td>https://www.nytimes.com/2022/12/23/business/wa...</td>\n",
       "      <td>There were fewer mergers and public listings t...</td>\n",
       "      <td>The luxury travel bookings will be more subdue...</td>\n",
       "      <td>B</td>\n",
       "      <td>1</td>\n",
       "      <td>The New York Times</td>\n",
       "      <td>[{'rank': 0, 'subtype': 'xlarge', 'caption': N...</td>\n",
       "      <td>{'main': 'For Many Wall Street Bankers, This Y...</td>\n",
       "      <td>[{'name': 'subject', 'value': 'Banking and Fin...</td>\n",
       "      <td>2022-12-23T08:00:10+0000</td>\n",
       "      <td>article</td>\n",
       "      <td>Business</td>\n",
       "      <td>Business Day</td>\n",
       "      <td>NaN</td>\n",
       "      <td>{'original': 'By Maureen Farrell, Lauren Hirsc...</td>\n",
       "      <td>News</td>\n",
       "      <td>nyt://article/eaabf5ae-6d5d-5663-b8e2-2fa46f64...</td>\n",
       "      <td>1321</td>\n",
       "      <td>nyt://article/eaabf5ae-6d5d-5663-b8e2-2fa46f64...</td>\n",
       "    </tr>\n",
       "    <tr>\n",
       "      <th>2</th>\n",
       "      <td>An I.R.S. policy requires the agency audit pre...</td>\n",
       "      <td>https://www.nytimes.com/interactive/2022/12/21...</td>\n",
       "      <td>An I.R.S. policy requires the agency audit pre...</td>\n",
       "      <td>An I.R.S. policy requires the agency audit pre...</td>\n",
       "      <td>NaN</td>\n",
       "      <td>NaN</td>\n",
       "      <td>The New York Times</td>\n",
       "      <td>[{'rank': 0, 'subtype': 'xlarge', 'caption': N...</td>\n",
       "      <td>{'main': 'Document: Report on the I.R.S. Manda...</td>\n",
       "      <td>[{'name': 'subject', 'value': 'Trump Tax Retur...</td>\n",
       "      <td>2022-12-21T02:28:23+0000</td>\n",
       "      <td>multimedia</td>\n",
       "      <td>U.S.</td>\n",
       "      <td>U.S.</td>\n",
       "      <td>Politics</td>\n",
       "      <td>{'original': None, 'person': [], 'organization...</td>\n",
       "      <td>Interactive Feature</td>\n",
       "      <td>nyt://interactive/e07fa384-7481-51b5-8d82-6a46...</td>\n",
       "      <td>0</td>\n",
       "      <td>nyt://interactive/e07fa384-7481-51b5-8d82-6a46...</td>\n",
       "    </tr>\n",
       "    <tr>\n",
       "      <th>3</th>\n",
       "      <td>Chamath Palihapitiya, once a relentless cheerl...</td>\n",
       "      <td>https://www.nytimes.com/2022/12/07/business/ch...</td>\n",
       "      <td>Chamath Palihapitiya, once a relentless cheerl...</td>\n",
       "      <td>Not long ago, Chamath Palihapitiya could be ca...</td>\n",
       "      <td>B</td>\n",
       "      <td>1</td>\n",
       "      <td>The New York Times</td>\n",
       "      <td>[{'rank': 0, 'subtype': 'xlarge', 'caption': N...</td>\n",
       "      <td>{'main': 'The ‘SPAC King’ Is Over It', 'kicker...</td>\n",
       "      <td>[{'name': 'persons', 'value': 'Palihapitiya, C...</td>\n",
       "      <td>2022-12-07T10:00:35+0000</td>\n",
       "      <td>article</td>\n",
       "      <td>Business</td>\n",
       "      <td>Business Day</td>\n",
       "      <td>NaN</td>\n",
       "      <td>{'original': 'By Maureen Farrell', 'person': [...</td>\n",
       "      <td>News</td>\n",
       "      <td>nyt://article/26f371d9-968c-54e3-a955-cdbc8880...</td>\n",
       "      <td>1748</td>\n",
       "      <td>nyt://article/26f371d9-968c-54e3-a955-cdbc8880...</td>\n",
       "    </tr>\n",
       "    <tr>\n",
       "      <th>4</th>\n",
       "      <td>Yahoo’s chief executive sees the deal as a lon...</td>\n",
       "      <td>https://www.nytimes.com/2022/11/28/business/de...</td>\n",
       "      <td>Yahoo’s chief executive sees the deal as a lon...</td>\n",
       "      <td>Yahoo is deepening its push into digital adver...</td>\n",
       "      <td>B</td>\n",
       "      <td>3</td>\n",
       "      <td>The New York Times</td>\n",
       "      <td>[{'rank': 0, 'subtype': 'xlarge', 'caption': N...</td>\n",
       "      <td>{'main': 'Yahoo Takes Minority Stake in Ad Net...</td>\n",
       "      <td>[{'name': 'subject', 'value': 'Computers and t...</td>\n",
       "      <td>2022-11-28T11:00:08+0000</td>\n",
       "      <td>article</td>\n",
       "      <td>Business</td>\n",
       "      <td>Business Day</td>\n",
       "      <td>DealBook</td>\n",
       "      <td>{'original': 'By Lauren Hirsch and Benjamin Mu...</td>\n",
       "      <td>News</td>\n",
       "      <td>nyt://article/9cef1d89-b296-52aa-adc9-c75b69fc...</td>\n",
       "      <td>679</td>\n",
       "      <td>nyt://article/9cef1d89-b296-52aa-adc9-c75b69fc...</td>\n",
       "    </tr>\n",
       "  </tbody>\n",
       "</table>\n",
       "</div>"
      ],
      "text/plain": [
       "                                            abstract  \\\n",
       "0  The preliminary guidance applies to an alterna...   \n",
       "1  There were fewer mergers and public listings t...   \n",
       "2  An I.R.S. policy requires the agency audit pre...   \n",
       "3  Chamath Palihapitiya, once a relentless cheerl...   \n",
       "4  Yahoo’s chief executive sees the deal as a lon...   \n",
       "\n",
       "                                             web_url  \\\n",
       "0  https://www.nytimes.com/2022/12/27/us/politics...   \n",
       "1  https://www.nytimes.com/2022/12/23/business/wa...   \n",
       "2  https://www.nytimes.com/interactive/2022/12/21...   \n",
       "3  https://www.nytimes.com/2022/12/07/business/ch...   \n",
       "4  https://www.nytimes.com/2022/11/28/business/de...   \n",
       "\n",
       "                                             snippet  \\\n",
       "0  The preliminary guidance applies to an alterna...   \n",
       "1  There were fewer mergers and public listings t...   \n",
       "2  An I.R.S. policy requires the agency audit pre...   \n",
       "3  Chamath Palihapitiya, once a relentless cheerl...   \n",
       "4  Yahoo’s chief executive sees the deal as a lon...   \n",
       "\n",
       "                                      lead_paragraph print_section print_page  \\\n",
       "0  WASHINGTON — The Treasury Department on Tuesda...             A         16   \n",
       "1  The luxury travel bookings will be more subdue...             B          1   \n",
       "2  An I.R.S. policy requires the agency audit pre...           NaN        NaN   \n",
       "3  Not long ago, Chamath Palihapitiya could be ca...             B          1   \n",
       "4  Yahoo is deepening its push into digital adver...             B          3   \n",
       "\n",
       "               source                                         multimedia  \\\n",
       "0  The New York Times  [{'rank': 0, 'subtype': 'xlarge', 'caption': N...   \n",
       "1  The New York Times  [{'rank': 0, 'subtype': 'xlarge', 'caption': N...   \n",
       "2  The New York Times  [{'rank': 0, 'subtype': 'xlarge', 'caption': N...   \n",
       "3  The New York Times  [{'rank': 0, 'subtype': 'xlarge', 'caption': N...   \n",
       "4  The New York Times  [{'rank': 0, 'subtype': 'xlarge', 'caption': N...   \n",
       "\n",
       "                                            headline  \\\n",
       "0  {'main': 'Treasury Department Outlines Rules f...   \n",
       "1  {'main': 'For Many Wall Street Bankers, This Y...   \n",
       "2  {'main': 'Document: Report on the I.R.S. Manda...   \n",
       "3  {'main': 'The ‘SPAC King’ Is Over It', 'kicker...   \n",
       "4  {'main': 'Yahoo Takes Minority Stake in Ad Net...   \n",
       "\n",
       "                                            keywords  \\\n",
       "0  [{'name': 'subject', 'value': 'United States P...   \n",
       "1  [{'name': 'subject', 'value': 'Banking and Fin...   \n",
       "2  [{'name': 'subject', 'value': 'Trump Tax Retur...   \n",
       "3  [{'name': 'persons', 'value': 'Palihapitiya, C...   \n",
       "4  [{'name': 'subject', 'value': 'Computers and t...   \n",
       "\n",
       "                   pub_date document_type   news_desk  section_name  \\\n",
       "0  2022-12-27T22:58:06+0000       article  Washington          U.S.   \n",
       "1  2022-12-23T08:00:10+0000       article    Business  Business Day   \n",
       "2  2022-12-21T02:28:23+0000    multimedia        U.S.          U.S.   \n",
       "3  2022-12-07T10:00:35+0000       article    Business  Business Day   \n",
       "4  2022-11-28T11:00:08+0000       article    Business  Business Day   \n",
       "\n",
       "  subsection_name                                             byline  \\\n",
       "0        Politics  {'original': 'By Jim Tankersley', 'person': [{...   \n",
       "1             NaN  {'original': 'By Maureen Farrell, Lauren Hirsc...   \n",
       "2        Politics  {'original': None, 'person': [], 'organization...   \n",
       "3             NaN  {'original': 'By Maureen Farrell', 'person': [...   \n",
       "4        DealBook  {'original': 'By Lauren Hirsch and Benjamin Mu...   \n",
       "\n",
       "      type_of_material                                                _id  \\\n",
       "0                 News  nyt://article/51e3a268-3b89-50c2-b801-3a750baa...   \n",
       "1                 News  nyt://article/eaabf5ae-6d5d-5663-b8e2-2fa46f64...   \n",
       "2  Interactive Feature  nyt://interactive/e07fa384-7481-51b5-8d82-6a46...   \n",
       "3                 News  nyt://article/26f371d9-968c-54e3-a955-cdbc8880...   \n",
       "4                 News  nyt://article/9cef1d89-b296-52aa-adc9-c75b69fc...   \n",
       "\n",
       "   word_count                                                uri  \n",
       "0         600  nyt://article/51e3a268-3b89-50c2-b801-3a750baa...  \n",
       "1        1321  nyt://article/eaabf5ae-6d5d-5663-b8e2-2fa46f64...  \n",
       "2           0  nyt://interactive/e07fa384-7481-51b5-8d82-6a46...  \n",
       "3        1748  nyt://article/26f371d9-968c-54e3-a955-cdbc8880...  \n",
       "4         679  nyt://article/9cef1d89-b296-52aa-adc9-c75b69fc...  "
      ]
     },
     "execution_count": 76,
     "metadata": {},
     "output_type": "execute_result"
    }
   ],
   "source": [
    "with open(\"data/nyt/special_purpose_acquisition_company/special_purpose_acquisition_company_1.json\", \"r\") as f:\n",
    "    json_res = json.loads(f.read())\n",
    "    df = json_to_df(json_res)\n",
    "\n",
    "df.head()"
   ]
  },
  {
   "cell_type": "code",
   "execution_count": 136,
   "metadata": {},
   "outputs": [
    {
     "data": {
      "text/html": [
       "<div>\n",
       "<style scoped>\n",
       "    .dataframe tbody tr th:only-of-type {\n",
       "        vertical-align: middle;\n",
       "    }\n",
       "\n",
       "    .dataframe tbody tr th {\n",
       "        vertical-align: top;\n",
       "    }\n",
       "\n",
       "    .dataframe thead th {\n",
       "        text-align: right;\n",
       "    }\n",
       "</style>\n",
       "<table border=\"1\" class=\"dataframe\">\n",
       "  <thead>\n",
       "    <tr style=\"text-align: right;\">\n",
       "      <th></th>\n",
       "      <th>abstract</th>\n",
       "      <th>web_url</th>\n",
       "      <th>snippet</th>\n",
       "      <th>lead_paragraph</th>\n",
       "      <th>print_section</th>\n",
       "      <th>print_page</th>\n",
       "      <th>source</th>\n",
       "      <th>multimedia</th>\n",
       "      <th>headline</th>\n",
       "      <th>keywords</th>\n",
       "      <th>pub_date</th>\n",
       "      <th>document_type</th>\n",
       "      <th>news_desk</th>\n",
       "      <th>section_name</th>\n",
       "      <th>byline</th>\n",
       "      <th>type_of_material</th>\n",
       "      <th>_id</th>\n",
       "      <th>word_count</th>\n",
       "      <th>uri</th>\n",
       "      <th>subsection_name</th>\n",
       "    </tr>\n",
       "  </thead>\n",
       "  <tbody>\n",
       "    <tr>\n",
       "      <th>0</th>\n",
       "      <td>The company’s top executive resigned after the...</td>\n",
       "      <td>https://www.nytimes.com/2021/06/14/business/lo...</td>\n",
       "      <td>The company’s top executive resigned after the...</td>\n",
       "      <td>When Mary T. Barra, the chief executive of Gen...</td>\n",
       "      <td>A</td>\n",
       "      <td>1</td>\n",
       "      <td>The New York Times</td>\n",
       "      <td>[{'rank': 0, 'subtype': 'xlarge', 'caption': N...</td>\n",
       "      <td>{'main': 'Lordstown, Truck Maker That Can’t Af...</td>\n",
       "      <td>[{'name': 'organizations', 'value': 'Lordstown...</td>\n",
       "      <td>2021-06-14T12:07:16+0000</td>\n",
       "      <td>article</td>\n",
       "      <td>Business</td>\n",
       "      <td>Business Day</td>\n",
       "      <td>{'original': 'By Matthew Goldstein, Lauren Hir...</td>\n",
       "      <td>News</td>\n",
       "      <td>nyt://article/da4c9fa3-556e-5989-8b6f-9ec45506...</td>\n",
       "      <td>1406</td>\n",
       "      <td>nyt://article/da4c9fa3-556e-5989-8b6f-9ec45506...</td>\n",
       "      <td>NaN</td>\n",
       "    </tr>\n",
       "    <tr>\n",
       "      <th>1</th>\n",
       "      <td>How a powerful industry conquered the U.S. tax...</td>\n",
       "      <td>https://www.nytimes.com/2021/06/14/business/de...</td>\n",
       "      <td>How a powerful industry conquered the U.S. tax...</td>\n",
       "      <td>The $4.5 trillion buyout industry “has perfect...</td>\n",
       "      <td>NaN</td>\n",
       "      <td>NaN</td>\n",
       "      <td>The New York Times</td>\n",
       "      <td>[{'rank': 0, 'subtype': 'xlarge', 'caption': N...</td>\n",
       "      <td>{'main': 'Private Equity’s Biggest Tax Tactics...</td>\n",
       "      <td>[{'name': 'subject', 'value': 'Federal Taxes (...</td>\n",
       "      <td>2021-06-14T11:23:32+0000</td>\n",
       "      <td>article</td>\n",
       "      <td>Business</td>\n",
       "      <td>Business Day</td>\n",
       "      <td>{'original': 'By Andrew Ross Sorkin, Jason Kar...</td>\n",
       "      <td>News</td>\n",
       "      <td>nyt://article/b3308881-073f-5092-bd37-77f2a034...</td>\n",
       "      <td>1779</td>\n",
       "      <td>nyt://article/b3308881-073f-5092-bd37-77f2a034...</td>\n",
       "      <td>DealBook</td>\n",
       "    </tr>\n",
       "    <tr>\n",
       "      <th>2</th>\n",
       "      <td>These complex takeover vehicles serve an impor...</td>\n",
       "      <td>https://www.nytimes.com/2021/06/12/business/de...</td>\n",
       "      <td>These complex takeover vehicles serve an impor...</td>\n",
       "      <td>The DealBook newsletter delves into a single t...</td>\n",
       "      <td>B</td>\n",
       "      <td>3</td>\n",
       "      <td>The New York Times</td>\n",
       "      <td>[{'rank': 0, 'subtype': 'xlarge', 'caption': N...</td>\n",
       "      <td>{'main': 'In Defense of SPACs', 'kicker': 'dea...</td>\n",
       "      <td>[{'name': 'subject', 'value': 'Special Purpose...</td>\n",
       "      <td>2021-06-12T12:00:04+0000</td>\n",
       "      <td>article</td>\n",
       "      <td>Business</td>\n",
       "      <td>Business Day</td>\n",
       "      <td>{'original': 'By Steven Davidoff Solomon', 'pe...</td>\n",
       "      <td>News</td>\n",
       "      <td>nyt://article/91942d03-2916-523f-8906-9b578f19...</td>\n",
       "      <td>997</td>\n",
       "      <td>nyt://article/91942d03-2916-523f-8906-9b578f19...</td>\n",
       "      <td>DealBook</td>\n",
       "    </tr>\n",
       "    <tr>\n",
       "      <th>3</th>\n",
       "      <td>Inside Silicon Valley’s 10-year quest to make ...</td>\n",
       "      <td>https://www.nytimes.com/2021/06/12/technology/...</td>\n",
       "      <td>Inside Silicon Valley’s 10-year quest to make ...</td>\n",
       "      <td>To hear more audio stories from publications l...</td>\n",
       "      <td>BU</td>\n",
       "      <td>1</td>\n",
       "      <td>The New York Times</td>\n",
       "      <td>[]</td>\n",
       "      <td>{'main': 'What Is a Flying Car?', 'kicker': No...</td>\n",
       "      <td>[{'name': 'subject', 'value': 'Flying Cars', '...</td>\n",
       "      <td>2021-06-12T09:00:30+0000</td>\n",
       "      <td>article</td>\n",
       "      <td>SundayBusiness</td>\n",
       "      <td>Technology</td>\n",
       "      <td>{'original': 'By Cade Metz and Erin Griffith',...</td>\n",
       "      <td>News</td>\n",
       "      <td>nyt://article/d96f1acf-8d87-5298-969f-0af0b491...</td>\n",
       "      <td>2340</td>\n",
       "      <td>nyt://article/d96f1acf-8d87-5298-969f-0af0b491...</td>\n",
       "      <td>NaN</td>\n",
       "    </tr>\n",
       "    <tr>\n",
       "      <th>4</th>\n",
       "      <td>It’s been a blowout year for executive pay.</td>\n",
       "      <td>https://www.nytimes.com/2021/06/11/business/de...</td>\n",
       "      <td>It’s been a blowout year for executive pay.</td>\n",
       "      <td>Want to get the DealBook newsletter in your in...</td>\n",
       "      <td>NaN</td>\n",
       "      <td>NaN</td>\n",
       "      <td>The New York Times</td>\n",
       "      <td>[{'rank': 0, 'subtype': 'xlarge', 'caption': N...</td>\n",
       "      <td>{'main': 'Behold the Highest-Paid C.E.O.s', 'k...</td>\n",
       "      <td>[{'name': 'subject', 'value': 'Executive Compe...</td>\n",
       "      <td>2021-06-11T11:55:35+0000</td>\n",
       "      <td>article</td>\n",
       "      <td>Business</td>\n",
       "      <td>Business Day</td>\n",
       "      <td>{'original': 'By Andrew Ross Sorkin, Jason Kar...</td>\n",
       "      <td>News</td>\n",
       "      <td>nyt://article/2fad74da-fca3-54e4-9e46-90851df7...</td>\n",
       "      <td>1367</td>\n",
       "      <td>nyt://article/2fad74da-fca3-54e4-9e46-90851df7...</td>\n",
       "      <td>DealBook</td>\n",
       "    </tr>\n",
       "  </tbody>\n",
       "</table>\n",
       "</div>"
      ],
      "text/plain": [
       "                                            abstract  \\\n",
       "0  The company’s top executive resigned after the...   \n",
       "1  How a powerful industry conquered the U.S. tax...   \n",
       "2  These complex takeover vehicles serve an impor...   \n",
       "3  Inside Silicon Valley’s 10-year quest to make ...   \n",
       "4        It’s been a blowout year for executive pay.   \n",
       "\n",
       "                                             web_url  \\\n",
       "0  https://www.nytimes.com/2021/06/14/business/lo...   \n",
       "1  https://www.nytimes.com/2021/06/14/business/de...   \n",
       "2  https://www.nytimes.com/2021/06/12/business/de...   \n",
       "3  https://www.nytimes.com/2021/06/12/technology/...   \n",
       "4  https://www.nytimes.com/2021/06/11/business/de...   \n",
       "\n",
       "                                             snippet  \\\n",
       "0  The company’s top executive resigned after the...   \n",
       "1  How a powerful industry conquered the U.S. tax...   \n",
       "2  These complex takeover vehicles serve an impor...   \n",
       "3  Inside Silicon Valley’s 10-year quest to make ...   \n",
       "4        It’s been a blowout year for executive pay.   \n",
       "\n",
       "                                      lead_paragraph print_section print_page  \\\n",
       "0  When Mary T. Barra, the chief executive of Gen...             A          1   \n",
       "1  The $4.5 trillion buyout industry “has perfect...           NaN        NaN   \n",
       "2  The DealBook newsletter delves into a single t...             B          3   \n",
       "3  To hear more audio stories from publications l...            BU          1   \n",
       "4  Want to get the DealBook newsletter in your in...           NaN        NaN   \n",
       "\n",
       "               source                                         multimedia  \\\n",
       "0  The New York Times  [{'rank': 0, 'subtype': 'xlarge', 'caption': N...   \n",
       "1  The New York Times  [{'rank': 0, 'subtype': 'xlarge', 'caption': N...   \n",
       "2  The New York Times  [{'rank': 0, 'subtype': 'xlarge', 'caption': N...   \n",
       "3  The New York Times                                                 []   \n",
       "4  The New York Times  [{'rank': 0, 'subtype': 'xlarge', 'caption': N...   \n",
       "\n",
       "                                            headline  \\\n",
       "0  {'main': 'Lordstown, Truck Maker That Can’t Af...   \n",
       "1  {'main': 'Private Equity’s Biggest Tax Tactics...   \n",
       "2  {'main': 'In Defense of SPACs', 'kicker': 'dea...   \n",
       "3  {'main': 'What Is a Flying Car?', 'kicker': No...   \n",
       "4  {'main': 'Behold the Highest-Paid C.E.O.s', 'k...   \n",
       "\n",
       "                                            keywords  \\\n",
       "0  [{'name': 'organizations', 'value': 'Lordstown...   \n",
       "1  [{'name': 'subject', 'value': 'Federal Taxes (...   \n",
       "2  [{'name': 'subject', 'value': 'Special Purpose...   \n",
       "3  [{'name': 'subject', 'value': 'Flying Cars', '...   \n",
       "4  [{'name': 'subject', 'value': 'Executive Compe...   \n",
       "\n",
       "                   pub_date document_type       news_desk  section_name  \\\n",
       "0  2021-06-14T12:07:16+0000       article        Business  Business Day   \n",
       "1  2021-06-14T11:23:32+0000       article        Business  Business Day   \n",
       "2  2021-06-12T12:00:04+0000       article        Business  Business Day   \n",
       "3  2021-06-12T09:00:30+0000       article  SundayBusiness    Technology   \n",
       "4  2021-06-11T11:55:35+0000       article        Business  Business Day   \n",
       "\n",
       "                                              byline type_of_material  \\\n",
       "0  {'original': 'By Matthew Goldstein, Lauren Hir...             News   \n",
       "1  {'original': 'By Andrew Ross Sorkin, Jason Kar...             News   \n",
       "2  {'original': 'By Steven Davidoff Solomon', 'pe...             News   \n",
       "3  {'original': 'By Cade Metz and Erin Griffith',...             News   \n",
       "4  {'original': 'By Andrew Ross Sorkin, Jason Kar...             News   \n",
       "\n",
       "                                                 _id  word_count  \\\n",
       "0  nyt://article/da4c9fa3-556e-5989-8b6f-9ec45506...        1406   \n",
       "1  nyt://article/b3308881-073f-5092-bd37-77f2a034...        1779   \n",
       "2  nyt://article/91942d03-2916-523f-8906-9b578f19...         997   \n",
       "3  nyt://article/d96f1acf-8d87-5298-969f-0af0b491...        2340   \n",
       "4  nyt://article/2fad74da-fca3-54e4-9e46-90851df7...        1367   \n",
       "\n",
       "                                                 uri subsection_name  \n",
       "0  nyt://article/da4c9fa3-556e-5989-8b6f-9ec45506...             NaN  \n",
       "1  nyt://article/b3308881-073f-5092-bd37-77f2a034...        DealBook  \n",
       "2  nyt://article/91942d03-2916-523f-8906-9b578f19...        DealBook  \n",
       "3  nyt://article/d96f1acf-8d87-5298-969f-0af0b491...             NaN  \n",
       "4  nyt://article/2fad74da-fca3-54e4-9e46-90851df7...        DealBook  "
      ]
     },
     "execution_count": 136,
     "metadata": {},
     "output_type": "execute_result"
    }
   ],
   "source": [
    "# Combine all the JSON files in the SPAC and the special_purpose_acquisition_company directories into their respective DataFrame\n",
    "\n",
    "spac_df = pd.DataFrame()\n",
    "for file in os.listdir(\"data/nyt/spac\"):\n",
    "    with open(\"data/nyt/spac/%s\" % file, \"r\") as f:\n",
    "        json_res = json.loads(f.read())\n",
    "        spac_df = pd.concat([spac_df, json_to_df(json_res)]) \n",
    "\n",
    "\n",
    "spac_df.head()"
   ]
  },
  {
   "cell_type": "code",
   "execution_count": 137,
   "metadata": {},
   "outputs": [
    {
     "data": {
      "text/html": [
       "<div>\n",
       "<style scoped>\n",
       "    .dataframe tbody tr th:only-of-type {\n",
       "        vertical-align: middle;\n",
       "    }\n",
       "\n",
       "    .dataframe tbody tr th {\n",
       "        vertical-align: top;\n",
       "    }\n",
       "\n",
       "    .dataframe thead th {\n",
       "        text-align: right;\n",
       "    }\n",
       "</style>\n",
       "<table border=\"1\" class=\"dataframe\">\n",
       "  <thead>\n",
       "    <tr style=\"text-align: right;\">\n",
       "      <th></th>\n",
       "      <th>abstract</th>\n",
       "      <th>web_url</th>\n",
       "      <th>snippet</th>\n",
       "      <th>lead_paragraph</th>\n",
       "      <th>print_section</th>\n",
       "      <th>print_page</th>\n",
       "      <th>source</th>\n",
       "      <th>multimedia</th>\n",
       "      <th>headline</th>\n",
       "      <th>keywords</th>\n",
       "      <th>pub_date</th>\n",
       "      <th>document_type</th>\n",
       "      <th>news_desk</th>\n",
       "      <th>section_name</th>\n",
       "      <th>byline</th>\n",
       "      <th>type_of_material</th>\n",
       "      <th>_id</th>\n",
       "      <th>word_count</th>\n",
       "      <th>uri</th>\n",
       "      <th>subsection_name</th>\n",
       "    </tr>\n",
       "  </thead>\n",
       "  <tbody>\n",
       "    <tr>\n",
       "      <th>0</th>\n",
       "      <td>Article on report released by Small Business A...</td>\n",
       "      <td>https://www.nytimes.com/2005/02/22/business/bu...</td>\n",
       "      <td>Article on report released by Small Business A...</td>\n",
       "      <td>ARE small businesses actually getting all the ...</td>\n",
       "      <td>G</td>\n",
       "      <td>9</td>\n",
       "      <td>The New York Times</td>\n",
       "      <td>[]</td>\n",
       "      <td>{'main': 'Case of the Missing Set-Aside', 'kic...</td>\n",
       "      <td>[{'name': 'organizations', 'value': 'Small Bus...</td>\n",
       "      <td>2005-02-22T05:00:00+0000</td>\n",
       "      <td>article</td>\n",
       "      <td>Small Business</td>\n",
       "      <td>Business Day</td>\n",
       "      <td>{'original': 'By Bernard Stamler', 'person': [...</td>\n",
       "      <td>News</td>\n",
       "      <td>nyt://article/bd7136af-4eab-51c7-83eb-85272fd1...</td>\n",
       "      <td>1041</td>\n",
       "      <td>nyt://article/bd7136af-4eab-51c7-83eb-85272fd1...</td>\n",
       "      <td>NaN</td>\n",
       "    </tr>\n",
       "    <tr>\n",
       "      <th>1</th>\n",
       "      <td>Article on win-win situation involving joint a...</td>\n",
       "      <td>https://www.nytimes.com/2005/02/20/nyregion/de...</td>\n",
       "      <td>Article on win-win situation involving joint a...</td>\n",
       "      <td>THE joint acquisition of more than a square mi...</td>\n",
       "      <td>WC</td>\n",
       "      <td>14</td>\n",
       "      <td>The New York Times</td>\n",
       "      <td>[]</td>\n",
       "      <td>{'main': 'In Somers, An Investment For Everyon...</td>\n",
       "      <td>[{'name': 'glocations', 'value': 'Somers (NY)'...</td>\n",
       "      <td>2005-02-20T05:00:00+0000</td>\n",
       "      <td>article</td>\n",
       "      <td>Westchester Weekly Desk</td>\n",
       "      <td>New York</td>\n",
       "      <td>{'original': 'By Elsa Brenner', 'person': [{'f...</td>\n",
       "      <td>News</td>\n",
       "      <td>nyt://article/a4955910-dd79-55ad-b18c-e18ddba7...</td>\n",
       "      <td>1044</td>\n",
       "      <td>nyt://article/a4955910-dd79-55ad-b18c-e18ddba7...</td>\n",
       "      <td>NaN</td>\n",
       "    </tr>\n",
       "    <tr>\n",
       "      <th>2</th>\n",
       "      <td>Profile of Jane Friedman, chief executive of H...</td>\n",
       "      <td>https://www.nytimes.com/2005/02/06/business/yo...</td>\n",
       "      <td>Profile of Jane Friedman, chief executive of H...</td>\n",
       "      <td>Correction Appended</td>\n",
       "      <td>3</td>\n",
       "      <td>1</td>\n",
       "      <td>The New York Times</td>\n",
       "      <td>[]</td>\n",
       "      <td>{'main': 'Michael Crichton? He's Just the Auth...</td>\n",
       "      <td>[{'name': 'organizations', 'value': 'NEWS CORP...</td>\n",
       "      <td>2005-02-06T05:00:00+0000</td>\n",
       "      <td>article</td>\n",
       "      <td>SundayBusiness</td>\n",
       "      <td>Books</td>\n",
       "      <td>{'original': 'By Edward Wyatt', 'person': [{'f...</td>\n",
       "      <td>News</td>\n",
       "      <td>nyt://article/fbdd8b9b-c467-53d2-9345-0919752e...</td>\n",
       "      <td>2449</td>\n",
       "      <td>nyt://article/fbdd8b9b-c467-53d2-9345-0919752e...</td>\n",
       "      <td>NaN</td>\n",
       "    </tr>\n",
       "    <tr>\n",
       "      <th>3</th>\n",
       "      <td>Earlier this month, Johnson &amp; Johnson became o...</td>\n",
       "      <td>https://www.nytimes.com/2005/01/30/opinion/cor...</td>\n",
       "      <td>Earlier this month, Johnson &amp; Johnson became o...</td>\n",
       "      <td>Earlier this month, Johnson &amp; Johnson became o...</td>\n",
       "      <td>4</td>\n",
       "      <td>16</td>\n",
       "      <td>The New York Times</td>\n",
       "      <td>[]</td>\n",
       "      <td>{'main': 'Corporate Welfare Runs Amok', 'kicke...</td>\n",
       "      <td>[{'name': 'glocations', 'value': 'United State...</td>\n",
       "      <td>2005-01-30T05:00:00+0000</td>\n",
       "      <td>article</td>\n",
       "      <td>Editorial Desk</td>\n",
       "      <td>Opinion</td>\n",
       "      <td>{'original': None, 'person': [], 'organization...</td>\n",
       "      <td>Editorial</td>\n",
       "      <td>nyt://article/f60acba6-6b87-5e89-93d9-8c903413...</td>\n",
       "      <td>681</td>\n",
       "      <td>nyt://article/f60acba6-6b87-5e89-93d9-8c903413...</td>\n",
       "      <td>NaN</td>\n",
       "    </tr>\n",
       "    <tr>\n",
       "      <th>4</th>\n",
       "      <td>MICK JAGGER was there that night in 1996, watc...</td>\n",
       "      <td>https://www.nytimes.com/2004/12/26/business/dr...</td>\n",
       "      <td>MICK JAGGER was there that night in 1996, watc...</td>\n",
       "      <td>MICK JAGGER was there that night in 1996, watc...</td>\n",
       "      <td>3</td>\n",
       "      <td>1</td>\n",
       "      <td>The New York Times</td>\n",
       "      <td>[]</td>\n",
       "      <td>{'main': 'Dressing Down Tommy Hilfiger', 'kick...</td>\n",
       "      <td>[{'name': 'subject', 'value': 'APPAREL', 'rank...</td>\n",
       "      <td>2004-12-26T05:00:00+0000</td>\n",
       "      <td>article</td>\n",
       "      <td>SundayBusiness</td>\n",
       "      <td>Business Day</td>\n",
       "      <td>{'original': 'By Tracie Rozhon', 'person': [{'...</td>\n",
       "      <td>News</td>\n",
       "      <td>nyt://article/743bf758-5cf9-51c0-816c-cf5690ec...</td>\n",
       "      <td>3432</td>\n",
       "      <td>nyt://article/743bf758-5cf9-51c0-816c-cf5690ec...</td>\n",
       "      <td>NaN</td>\n",
       "    </tr>\n",
       "  </tbody>\n",
       "</table>\n",
       "</div>"
      ],
      "text/plain": [
       "                                            abstract  \\\n",
       "0  Article on report released by Small Business A...   \n",
       "1  Article on win-win situation involving joint a...   \n",
       "2  Profile of Jane Friedman, chief executive of H...   \n",
       "3  Earlier this month, Johnson & Johnson became o...   \n",
       "4  MICK JAGGER was there that night in 1996, watc...   \n",
       "\n",
       "                                             web_url  \\\n",
       "0  https://www.nytimes.com/2005/02/22/business/bu...   \n",
       "1  https://www.nytimes.com/2005/02/20/nyregion/de...   \n",
       "2  https://www.nytimes.com/2005/02/06/business/yo...   \n",
       "3  https://www.nytimes.com/2005/01/30/opinion/cor...   \n",
       "4  https://www.nytimes.com/2004/12/26/business/dr...   \n",
       "\n",
       "                                             snippet  \\\n",
       "0  Article on report released by Small Business A...   \n",
       "1  Article on win-win situation involving joint a...   \n",
       "2  Profile of Jane Friedman, chief executive of H...   \n",
       "3  Earlier this month, Johnson & Johnson became o...   \n",
       "4  MICK JAGGER was there that night in 1996, watc...   \n",
       "\n",
       "                                      lead_paragraph print_section print_page  \\\n",
       "0  ARE small businesses actually getting all the ...             G          9   \n",
       "1  THE joint acquisition of more than a square mi...            WC         14   \n",
       "2                                Correction Appended             3          1   \n",
       "3  Earlier this month, Johnson & Johnson became o...             4         16   \n",
       "4  MICK JAGGER was there that night in 1996, watc...             3          1   \n",
       "\n",
       "               source multimedia  \\\n",
       "0  The New York Times         []   \n",
       "1  The New York Times         []   \n",
       "2  The New York Times         []   \n",
       "3  The New York Times         []   \n",
       "4  The New York Times         []   \n",
       "\n",
       "                                            headline  \\\n",
       "0  {'main': 'Case of the Missing Set-Aside', 'kic...   \n",
       "1  {'main': 'In Somers, An Investment For Everyon...   \n",
       "2  {'main': 'Michael Crichton? He's Just the Auth...   \n",
       "3  {'main': 'Corporate Welfare Runs Amok', 'kicke...   \n",
       "4  {'main': 'Dressing Down Tommy Hilfiger', 'kick...   \n",
       "\n",
       "                                            keywords  \\\n",
       "0  [{'name': 'organizations', 'value': 'Small Bus...   \n",
       "1  [{'name': 'glocations', 'value': 'Somers (NY)'...   \n",
       "2  [{'name': 'organizations', 'value': 'NEWS CORP...   \n",
       "3  [{'name': 'glocations', 'value': 'United State...   \n",
       "4  [{'name': 'subject', 'value': 'APPAREL', 'rank...   \n",
       "\n",
       "                   pub_date document_type                news_desk  \\\n",
       "0  2005-02-22T05:00:00+0000       article           Small Business   \n",
       "1  2005-02-20T05:00:00+0000       article  Westchester Weekly Desk   \n",
       "2  2005-02-06T05:00:00+0000       article           SundayBusiness   \n",
       "3  2005-01-30T05:00:00+0000       article           Editorial Desk   \n",
       "4  2004-12-26T05:00:00+0000       article           SundayBusiness   \n",
       "\n",
       "   section_name                                             byline  \\\n",
       "0  Business Day  {'original': 'By Bernard Stamler', 'person': [...   \n",
       "1      New York  {'original': 'By Elsa Brenner', 'person': [{'f...   \n",
       "2         Books  {'original': 'By Edward Wyatt', 'person': [{'f...   \n",
       "3       Opinion  {'original': None, 'person': [], 'organization...   \n",
       "4  Business Day  {'original': 'By Tracie Rozhon', 'person': [{'...   \n",
       "\n",
       "  type_of_material                                                _id  \\\n",
       "0             News  nyt://article/bd7136af-4eab-51c7-83eb-85272fd1...   \n",
       "1             News  nyt://article/a4955910-dd79-55ad-b18c-e18ddba7...   \n",
       "2             News  nyt://article/fbdd8b9b-c467-53d2-9345-0919752e...   \n",
       "3        Editorial  nyt://article/f60acba6-6b87-5e89-93d9-8c903413...   \n",
       "4             News  nyt://article/743bf758-5cf9-51c0-816c-cf5690ec...   \n",
       "\n",
       "   word_count                                                uri  \\\n",
       "0        1041  nyt://article/bd7136af-4eab-51c7-83eb-85272fd1...   \n",
       "1        1044  nyt://article/a4955910-dd79-55ad-b18c-e18ddba7...   \n",
       "2        2449  nyt://article/fbdd8b9b-c467-53d2-9345-0919752e...   \n",
       "3         681  nyt://article/f60acba6-6b87-5e89-93d9-8c903413...   \n",
       "4        3432  nyt://article/743bf758-5cf9-51c0-816c-cf5690ec...   \n",
       "\n",
       "  subsection_name  \n",
       "0             NaN  \n",
       "1             NaN  \n",
       "2             NaN  \n",
       "3             NaN  \n",
       "4             NaN  "
      ]
     },
     "execution_count": 137,
     "metadata": {},
     "output_type": "execute_result"
    }
   ],
   "source": [
    "verbose_spac_df = pd.DataFrame()\n",
    "for file in os.listdir(\"data/nyt/special_purpose_acquisition_company\"):\n",
    "    with open(\"data/nyt/special_purpose_acquisition_company/%s\" % file, \"r\") as f:\n",
    "        json_res = json.loads(f.read())\n",
    "        verbose_spac_df = pd.concat([verbose_spac_df, json_to_df(json_res)])\n",
    "\n",
    "verbose_spac_df.head()"
   ]
  },
  {
   "cell_type": "code",
   "execution_count": 138,
   "metadata": {},
   "outputs": [
    {
     "data": {
      "text/plain": [
       "(585, 20)"
      ]
     },
     "execution_count": 138,
     "metadata": {},
     "output_type": "execute_result"
    }
   ],
   "source": [
    "spac_df.shape"
   ]
  },
  {
   "cell_type": "code",
   "execution_count": 139,
   "metadata": {},
   "outputs": [
    {
     "data": {
      "text/plain": [
       "(2000, 20)"
      ]
     },
     "execution_count": 139,
     "metadata": {},
     "output_type": "execute_result"
    }
   ],
   "source": [
    "verbose_spac_df.shape"
   ]
  },
  {
   "cell_type": "code",
   "execution_count": 140,
   "metadata": {},
   "outputs": [
    {
     "data": {
      "text/plain": [
       "((585,), (2000,))"
      ]
     },
     "execution_count": 140,
     "metadata": {},
     "output_type": "execute_result"
    }
   ],
   "source": [
    "# Check if there are duplicate articles in the spac_df and verbose_spac_df\n",
    "spac_df['_id'].unique().shape, verbose_spac_df['_id'].unique().shape"
   ]
  },
  {
   "attachments": {},
   "cell_type": "markdown",
   "metadata": {},
   "source": [
    "### Combine the DataFrames, removing duplicates"
   ]
  },
  {
   "cell_type": "code",
   "execution_count": 141,
   "metadata": {},
   "outputs": [
    {
     "data": {
      "text/html": [
       "<div>\n",
       "<style scoped>\n",
       "    .dataframe tbody tr th:only-of-type {\n",
       "        vertical-align: middle;\n",
       "    }\n",
       "\n",
       "    .dataframe tbody tr th {\n",
       "        vertical-align: top;\n",
       "    }\n",
       "\n",
       "    .dataframe thead th {\n",
       "        text-align: right;\n",
       "    }\n",
       "</style>\n",
       "<table border=\"1\" class=\"dataframe\">\n",
       "  <thead>\n",
       "    <tr style=\"text-align: right;\">\n",
       "      <th></th>\n",
       "      <th>_id</th>\n",
       "      <th>abstract</th>\n",
       "      <th>web_url</th>\n",
       "      <th>snippet</th>\n",
       "      <th>lead_paragraph</th>\n",
       "      <th>print_section</th>\n",
       "      <th>print_page</th>\n",
       "      <th>source</th>\n",
       "      <th>multimedia</th>\n",
       "      <th>headline</th>\n",
       "      <th>keywords</th>\n",
       "      <th>pub_date</th>\n",
       "      <th>document_type</th>\n",
       "      <th>news_desk</th>\n",
       "      <th>section_name</th>\n",
       "      <th>byline</th>\n",
       "      <th>type_of_material</th>\n",
       "      <th>word_count</th>\n",
       "      <th>uri</th>\n",
       "      <th>subsection_name</th>\n",
       "    </tr>\n",
       "  </thead>\n",
       "  <tbody>\n",
       "    <tr>\n",
       "      <th>0</th>\n",
       "      <td>nyt://article/00333e27-a5aa-5453-a0fe-2489f23c...</td>\n",
       "      <td>(This article was reported by C. J. Chivers, E...</td>\n",
       "      <td>https://www.nytimes.com/2008/03/27/world/asia/...</td>\n",
       "      <td></td>\n",
       "      <td>(This article was reported by C. J. Chivers, E...</td>\n",
       "      <td>NaN</td>\n",
       "      <td>NaN</td>\n",
       "      <td>International Herald Tribune</td>\n",
       "      <td>[]</td>\n",
       "      <td>{'main': 'Supplier under scrutiny on aging arm...</td>\n",
       "      <td>[]</td>\n",
       "      <td>2008-03-27T05:00:00+0000</td>\n",
       "      <td>article</td>\n",
       "      <td>IHT News</td>\n",
       "      <td>World</td>\n",
       "      <td>{'original': 'By C. J. Chivers', 'person': [{'...</td>\n",
       "      <td>News</td>\n",
       "      <td>4219</td>\n",
       "      <td>nyt://article/00333e27-a5aa-5453-a0fe-2489f23c...</td>\n",
       "      <td>Asia Pacific</td>\n",
       "    </tr>\n",
       "    <tr>\n",
       "      <th>1</th>\n",
       "      <td>nyt://article/003a5b2f-bfe7-5b1e-a049-8a4d372e...</td>\n",
       "      <td>The corporate practice of siphoning money fr...</td>\n",
       "      <td>https://www.nytimes.com/1983/09/25/business/pr...</td>\n",
       "      <td></td>\n",
       "      <td>The corporate practice of siphoning money from...</td>\n",
       "      <td>3</td>\n",
       "      <td>1</td>\n",
       "      <td>The New York Times</td>\n",
       "      <td>[]</td>\n",
       "      <td>{'main': 'Raiding Pension Plan', 'kicker': 'PR...</td>\n",
       "      <td>[{'name': 'subject', 'value': 'TERMS NOT AVAIL...</td>\n",
       "      <td>1983-09-25T05:00:00+0000</td>\n",
       "      <td>article</td>\n",
       "      <td>Financial Desk</td>\n",
       "      <td>Business Day</td>\n",
       "      <td>{'original': 'By Clyde H. Farnsworth', 'person...</td>\n",
       "      <td>Summary</td>\n",
       "      <td>765</td>\n",
       "      <td>nyt://article/003a5b2f-bfe7-5b1e-a049-8a4d372e...</td>\n",
       "      <td>NaN</td>\n",
       "    </tr>\n",
       "    <tr>\n",
       "      <th>2</th>\n",
       "      <td>nyt://article/004f83e0-4289-5034-8eda-3f0d06c9...</td>\n",
       "      <td>Gary Gensler, the new S.E.C. chairman, wants t...</td>\n",
       "      <td>https://www.nytimes.com/2021/04/21/business/ec...</td>\n",
       "      <td>Gary Gensler, the new S.E.C. chairman, wants t...</td>\n",
       "      <td>Wall Street’s new watchdog, Gary Gensler, is c...</td>\n",
       "      <td>B</td>\n",
       "      <td>1</td>\n",
       "      <td>The New York Times</td>\n",
       "      <td>[{'rank': 0, 'subtype': 'xlarge', 'caption': N...</td>\n",
       "      <td>{'main': 'Manic Markets, Imploding Funds: Wall...</td>\n",
       "      <td>[{'name': 'persons', 'value': 'Gensler, Gary S...</td>\n",
       "      <td>2021-04-21T14:05:15+0000</td>\n",
       "      <td>article</td>\n",
       "      <td>Business</td>\n",
       "      <td>Business Day</td>\n",
       "      <td>{'original': 'By Matthew Goldstein', 'person':...</td>\n",
       "      <td>News</td>\n",
       "      <td>1286</td>\n",
       "      <td>nyt://article/004f83e0-4289-5034-8eda-3f0d06c9...</td>\n",
       "      <td>Economy</td>\n",
       "    </tr>\n",
       "    <tr>\n",
       "      <th>3</th>\n",
       "      <td>nyt://article/0056b3ce-dd83-5c26-9928-37d4f654...</td>\n",
       "      <td>Biog; illus</td>\n",
       "      <td>https://www.nytimes.com/1961/09/06/archives/co...</td>\n",
       "      <td>Biog; illus</td>\n",
       "      <td></td>\n",
       "      <td>BUSINESS FINANCIAL</td>\n",
       "      <td>51</td>\n",
       "      <td>The New York Times</td>\n",
       "      <td>[]</td>\n",
       "      <td>{'main': 'Co-Existence in the Retail War; Disc...</td>\n",
       "      <td>[{'name': 'organizations', 'value': 'GRAYSON-R...</td>\n",
       "      <td>1961-09-06T05:00:00+0000</td>\n",
       "      <td>article</td>\n",
       "      <td>None</td>\n",
       "      <td>Archives</td>\n",
       "      <td>{'original': 'By William M. Freeman', 'person'...</td>\n",
       "      <td>Archives</td>\n",
       "      <td>0</td>\n",
       "      <td>nyt://article/0056b3ce-dd83-5c26-9928-37d4f654...</td>\n",
       "      <td>NaN</td>\n",
       "    </tr>\n",
       "    <tr>\n",
       "      <th>4</th>\n",
       "      <td>nyt://article/006fe0c5-ffc3-5ed1-9ec8-eed97e51...</td>\n",
       "      <td>Lehman message</td>\n",
       "      <td>https://www.nytimes.com/1938/01/06/archives/te...</td>\n",
       "      <td>Lehman message</td>\n",
       "      <td></td>\n",
       "      <td>NaN</td>\n",
       "      <td>14</td>\n",
       "      <td>The New York Times</td>\n",
       "      <td>[]</td>\n",
       "      <td>{'main': 'Text of Governor Lehman's Annual Mes...</td>\n",
       "      <td>[{'name': 'glocations', 'value': 'New York Sta...</td>\n",
       "      <td>1938-01-06T05:00:00+0000</td>\n",
       "      <td>article</td>\n",
       "      <td>None</td>\n",
       "      <td>Archives</td>\n",
       "      <td>{'original': 'Special to THE NEW YORK TIMES', ...</td>\n",
       "      <td>Archives</td>\n",
       "      <td>0</td>\n",
       "      <td>nyt://article/006fe0c5-ffc3-5ed1-9ec8-eed97e51...</td>\n",
       "      <td>NaN</td>\n",
       "    </tr>\n",
       "  </tbody>\n",
       "</table>\n",
       "</div>"
      ],
      "text/plain": [
       "                                                 _id  \\\n",
       "0  nyt://article/00333e27-a5aa-5453-a0fe-2489f23c...   \n",
       "1  nyt://article/003a5b2f-bfe7-5b1e-a049-8a4d372e...   \n",
       "2  nyt://article/004f83e0-4289-5034-8eda-3f0d06c9...   \n",
       "3  nyt://article/0056b3ce-dd83-5c26-9928-37d4f654...   \n",
       "4  nyt://article/006fe0c5-ffc3-5ed1-9ec8-eed97e51...   \n",
       "\n",
       "                                            abstract  \\\n",
       "0  (This article was reported by C. J. Chivers, E...   \n",
       "1    The corporate practice of siphoning money fr...   \n",
       "2  Gary Gensler, the new S.E.C. chairman, wants t...   \n",
       "3                                        Biog; illus   \n",
       "4                                     Lehman message   \n",
       "\n",
       "                                             web_url  \\\n",
       "0  https://www.nytimes.com/2008/03/27/world/asia/...   \n",
       "1  https://www.nytimes.com/1983/09/25/business/pr...   \n",
       "2  https://www.nytimes.com/2021/04/21/business/ec...   \n",
       "3  https://www.nytimes.com/1961/09/06/archives/co...   \n",
       "4  https://www.nytimes.com/1938/01/06/archives/te...   \n",
       "\n",
       "                                             snippet  \\\n",
       "0                                                      \n",
       "1                                                      \n",
       "2  Gary Gensler, the new S.E.C. chairman, wants t...   \n",
       "3                                        Biog; illus   \n",
       "4                                     Lehman message   \n",
       "\n",
       "                                      lead_paragraph       print_section  \\\n",
       "0  (This article was reported by C. J. Chivers, E...                 NaN   \n",
       "1  The corporate practice of siphoning money from...                   3   \n",
       "2  Wall Street’s new watchdog, Gary Gensler, is c...                   B   \n",
       "3                                                     BUSINESS FINANCIAL   \n",
       "4                                                                    NaN   \n",
       "\n",
       "  print_page                        source  \\\n",
       "0        NaN  International Herald Tribune   \n",
       "1          1            The New York Times   \n",
       "2          1            The New York Times   \n",
       "3         51            The New York Times   \n",
       "4         14            The New York Times   \n",
       "\n",
       "                                          multimedia  \\\n",
       "0                                                 []   \n",
       "1                                                 []   \n",
       "2  [{'rank': 0, 'subtype': 'xlarge', 'caption': N...   \n",
       "3                                                 []   \n",
       "4                                                 []   \n",
       "\n",
       "                                            headline  \\\n",
       "0  {'main': 'Supplier under scrutiny on aging arm...   \n",
       "1  {'main': 'Raiding Pension Plan', 'kicker': 'PR...   \n",
       "2  {'main': 'Manic Markets, Imploding Funds: Wall...   \n",
       "3  {'main': 'Co-Existence in the Retail War; Disc...   \n",
       "4  {'main': 'Text of Governor Lehman's Annual Mes...   \n",
       "\n",
       "                                            keywords  \\\n",
       "0                                                 []   \n",
       "1  [{'name': 'subject', 'value': 'TERMS NOT AVAIL...   \n",
       "2  [{'name': 'persons', 'value': 'Gensler, Gary S...   \n",
       "3  [{'name': 'organizations', 'value': 'GRAYSON-R...   \n",
       "4  [{'name': 'glocations', 'value': 'New York Sta...   \n",
       "\n",
       "                   pub_date document_type       news_desk  section_name  \\\n",
       "0  2008-03-27T05:00:00+0000       article        IHT News         World   \n",
       "1  1983-09-25T05:00:00+0000       article  Financial Desk  Business Day   \n",
       "2  2021-04-21T14:05:15+0000       article        Business  Business Day   \n",
       "3  1961-09-06T05:00:00+0000       article            None      Archives   \n",
       "4  1938-01-06T05:00:00+0000       article            None      Archives   \n",
       "\n",
       "                                              byline type_of_material  \\\n",
       "0  {'original': 'By C. J. Chivers', 'person': [{'...             News   \n",
       "1  {'original': 'By Clyde H. Farnsworth', 'person...          Summary   \n",
       "2  {'original': 'By Matthew Goldstein', 'person':...             News   \n",
       "3  {'original': 'By William M. Freeman', 'person'...         Archives   \n",
       "4  {'original': 'Special to THE NEW YORK TIMES', ...         Archives   \n",
       "\n",
       "   word_count                                                uri  \\\n",
       "0        4219  nyt://article/00333e27-a5aa-5453-a0fe-2489f23c...   \n",
       "1         765  nyt://article/003a5b2f-bfe7-5b1e-a049-8a4d372e...   \n",
       "2        1286  nyt://article/004f83e0-4289-5034-8eda-3f0d06c9...   \n",
       "3           0  nyt://article/0056b3ce-dd83-5c26-9928-37d4f654...   \n",
       "4           0  nyt://article/006fe0c5-ffc3-5ed1-9ec8-eed97e51...   \n",
       "\n",
       "  subsection_name  \n",
       "0    Asia Pacific  \n",
       "1             NaN  \n",
       "2         Economy  \n",
       "3             NaN  \n",
       "4             NaN  "
      ]
     },
     "execution_count": 141,
     "metadata": {},
     "output_type": "execute_result"
    }
   ],
   "source": [
    "# Combine the two DataFrames and remove duplicates\n",
    "# https://pandas.pydata.org/docs/reference/api/pandas.DataFrame.combine_first.html\n",
    "full_df = verbose_spac_df.set_index('_id').combine_first(spac_df.set_index('_id')).reset_index()\n",
    "full_df.head()"
   ]
  },
  {
   "cell_type": "code",
   "execution_count": 142,
   "metadata": {},
   "outputs": [
    {
     "data": {
      "text/plain": [
       "(2320, 20)"
      ]
     },
     "execution_count": 142,
     "metadata": {},
     "output_type": "execute_result"
    }
   ],
   "source": [
    "full_df.shape"
   ]
  },
  {
   "attachments": {},
   "cell_type": "markdown",
   "metadata": {},
   "source": [
    "## Data Cleaning"
   ]
  },
  {
   "cell_type": "code",
   "execution_count": 143,
   "metadata": {},
   "outputs": [
    {
     "data": {
      "text/plain": [
       "Index(['_id', 'abstract', 'web_url', 'snippet', 'lead_paragraph',\n",
       "       'print_section', 'print_page', 'source', 'multimedia', 'headline',\n",
       "       'keywords', 'pub_date', 'document_type', 'news_desk', 'section_name',\n",
       "       'byline', 'type_of_material', 'word_count', 'uri', 'subsection_name'],\n",
       "      dtype='object')"
      ]
     },
     "execution_count": 143,
     "metadata": {},
     "output_type": "execute_result"
    }
   ],
   "source": [
    "full_df.columns"
   ]
  },
  {
   "cell_type": "code",
   "execution_count": 144,
   "metadata": {},
   "outputs": [
    {
     "name": "stderr",
     "output_type": "stream",
     "text": [
      "/var/folders/x0/4wc1x1s934q1t58trc5dtw0h0000gp/T/ipykernel_85513/297953294.py:4: FutureWarning: Treating datetime data as categorical rather than numeric in `.describe` is deprecated and will be removed in a future version of pandas. Specify `datetime_is_numeric=True` to silence this warning and adopt the future behavior now.\n",
      "  full_df['pub_date'].describe()\n"
     ]
    },
    {
     "data": {
      "text/plain": [
       "count                          2320\n",
       "unique                         2212\n",
       "top       2000-06-14 05:00:00+00:00\n",
       "freq                              3\n",
       "first     1865-09-03 05:00:00+00:00\n",
       "last      2023-01-20 21:02:30+00:00\n",
       "Name: pub_date, dtype: object"
      ]
     },
     "execution_count": 144,
     "metadata": {},
     "output_type": "execute_result"
    }
   ],
   "source": [
    "full_df['pub_date'] = pd.to_datetime(full_df['pub_date']) # convert to datetime\n",
    "full_df['headline_main'] = full_df['headline'].apply(lambda x: x['main']) # extract headline_main\n",
    "\n",
    "full_df['pub_date'].describe()"
   ]
  },
  {
   "cell_type": "code",
   "execution_count": 145,
   "metadata": {},
   "outputs": [],
   "source": [
    "# Save our DataFrame to a CSV file so we can just load it in the future\n",
    "full_df.to_csv(\"data/nyt/nyt_spac.csv\")"
   ]
  },
  {
   "attachments": {},
   "cell_type": "markdown",
   "metadata": {},
   "source": [
    "## Data Exploration"
   ]
  },
  {
   "cell_type": "code",
   "execution_count": 146,
   "metadata": {},
   "outputs": [
    {
     "name": "stderr",
     "output_type": "stream",
     "text": [
      "/var/folders/x0/4wc1x1s934q1t58trc5dtw0h0000gp/T/ipykernel_85513/371600974.py:2: FutureWarning: Treating datetime data as categorical rather than numeric in `.describe` is deprecated and will be removed in a future version of pandas. Specify `datetime_is_numeric=True` to silence this warning and adopt the future behavior now.\n",
      "  full_df['pub_date'].describe()\n"
     ]
    },
    {
     "data": {
      "text/plain": [
       "count                          2320\n",
       "unique                         2212\n",
       "top       2000-06-14 05:00:00+00:00\n",
       "freq                              3\n",
       "first     1865-09-03 05:00:00+00:00\n",
       "last      2023-01-20 21:02:30+00:00\n",
       "Name: pub_date, dtype: object"
      ]
     },
     "execution_count": 146,
     "metadata": {},
     "output_type": "execute_result"
    }
   ],
   "source": [
    "# Get the 5 number summary of the publication dates\n",
    "full_df['pub_date'].describe()"
   ]
  },
  {
   "cell_type": "code",
   "execution_count": 147,
   "metadata": {},
   "outputs": [
    {
     "data": {
      "text/plain": [
       "count      2320.000000\n",
       "mean       1660.197845\n",
       "std        4100.339873\n",
       "min           0.000000\n",
       "25%           0.000000\n",
       "50%         852.000000\n",
       "75%        1756.250000\n",
       "max      102439.000000\n",
       "Name: word_count, dtype: float64"
      ]
     },
     "execution_count": 147,
     "metadata": {},
     "output_type": "execute_result"
    }
   ],
   "source": [
    "# Get the 5 number summary of the word counts\n",
    "full_df['word_count'].describe()"
   ]
  },
  {
   "cell_type": "code",
   "execution_count": 148,
   "metadata": {},
   "outputs": [
    {
     "name": "stderr",
     "output_type": "stream",
     "text": [
      "/var/folders/x0/4wc1x1s934q1t58trc5dtw0h0000gp/T/ipykernel_85513/2363712498.py:3: UserWarning: Converting to PeriodArray/Index representation will drop timezone information.\n",
      "  sns.histplot(full_df['pub_date'], bins=full_df['pub_date'].dt.to_period('M').unique().shape[0])\n"
     ]
    },
    {
     "data": {
      "text/plain": [
       "<Axes: xlabel='pub_date', ylabel='Count'>"
      ]
     },
     "execution_count": 148,
     "metadata": {},
     "output_type": "execute_result"
    },
    {
     "data": {
      "image/png": "[encoded data removed]",
      "text/plain": [
       "<Figure size 640x480 with 1 Axes>"
      ]
     },
     "metadata": {},
     "output_type": "display_data"
    }
   ],
   "source": [
    "# Make a histogram of the publication dates, setting each month as a bin\n",
    "# Use seaborn\n",
    "sns.histplot(full_df['pub_date'], bins=full_df['pub_date'].dt.to_period('M').unique().shape[0])"
   ]
  },
  {
   "attachments": {},
   "cell_type": "markdown",
   "metadata": {},
   "source": [
    "Looking at this graph, we see the majority of the articles start around 1930. Trim the data only include entries with publication dates >= 1930"
   ]
  },
  {
   "cell_type": "code",
   "execution_count": 149,
   "metadata": {},
   "outputs": [],
   "source": [
    "full_df = full_df[full_df['pub_date'] > dt.datetime(1930, 1, 1).astimezone(tz=dt.timezone.utc)]"
   ]
  },
  {
   "cell_type": "code",
   "execution_count": 150,
   "metadata": {},
   "outputs": [
    {
     "name": "stderr",
     "output_type": "stream",
     "text": [
      "/var/folders/x0/4wc1x1s934q1t58trc5dtw0h0000gp/T/ipykernel_85513/2191979633.py:1: UserWarning: Converting to PeriodArray/Index representation will drop timezone information.\n",
      "  sns.histplot(full_df['pub_date'], bins=full_df['pub_date'].dt.to_period('M').unique().shape[0])\n"
     ]
    },
    {
     "data": {
      "text/plain": [
       "<Axes: xlabel='pub_date', ylabel='Count'>"
      ]
     },
     "execution_count": 150,
     "metadata": {},
     "output_type": "execute_result"
    },
    {
     "data": {
      "image/png": "[encoded data removed]",
      "text/plain": [
       "<Figure size 640x480 with 1 Axes>"
      ]
     },
     "metadata": {},
     "output_type": "display_data"
    }
   ],
   "source": [
    "sns.histplot(full_df['pub_date'], bins=full_df['pub_date'].dt.to_period('M').unique().shape[0])"
   ]
  },
  {
   "cell_type": "code",
   "execution_count": 151,
   "metadata": {},
   "outputs": [
    {
     "data": {
      "text/plain": [
       "<Axes: xlabel='pub_date', ylabel='word_count'>"
      ]
     },
     "execution_count": 151,
     "metadata": {},
     "output_type": "execute_result"
    },
    {
     "data": {
      "image/png": "[encoded data removed]",
      "text/plain": [
       "<Figure size 640x480 with 1 Axes>"
      ]
     },
     "metadata": {},
     "output_type": "display_data"
    }
   ],
   "source": [
    "# Do the word counts and publication dates correlate?\n",
    "sns.scatterplot(data=full_df, x='pub_date', y='word_count', alpha=0.3)"
   ]
  },
  {
   "cell_type": "code",
   "execution_count": 152,
   "metadata": {},
   "outputs": [
    {
     "name": "stderr",
     "output_type": "stream",
     "text": [
      "/Users/work/opt/anaconda3/envs/python311/lib/python3.11/site-packages/pandas/core/arraylike.py:402: RuntimeWarning: divide by zero encountered in log\n",
      "  result = getattr(ufunc, method)(*inputs, **kwargs)\n"
     ]
    },
    {
     "data": {
      "text/plain": [
       "<Axes: xlabel='pub_date', ylabel='word_count'>"
      ]
     },
     "execution_count": 152,
     "metadata": {},
     "output_type": "execute_result"
    },
    {
     "data": {
      "image/png": "[encoded data removed]",
      "text/plain": [
       "<Figure size 640x480 with 1 Axes>"
      ]
     },
     "metadata": {},
     "output_type": "display_data"
    }
   ],
   "source": [
    "# Use a log scale for the y axis\n",
    "sns.scatterplot(x=full_df['pub_date'], y=np.log(full_df['word_count']), alpha=0.3)"
   ]
  },
  {
   "cell_type": "code",
   "execution_count": null,
   "metadata": {},
   "outputs": [],
   "source": []
  }
 ],
 "metadata": {
  "kernelspec": {
   "display_name": "python311",
   "language": "python",
   "name": "python3"
  },
  "language_info": {
   "codemirror_mode": {
    "name": "ipython",
    "version": 3
   },
   "file_extension": ".py",
   "mimetype": "text/x-python",
   "name": "python",
   "nbconvert_exporter": "python",
   "pygments_lexer": "ipython3",
   "version": "3.11.0"
  },
  "orig_nbformat": 4
 },
 "nbformat": 4,
 "nbformat_minor": 2
}
